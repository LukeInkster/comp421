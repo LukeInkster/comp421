{
 "cells": [
  {
   "cell_type": "markdown",
   "metadata": {},
   "source": [
    "##  A super-simple environment for trying out Q-learning\n",
    "Marcus Frean\n",
    "\n",
    "Reads in a grid-world (eg. Cliff.txt). Integers in this file denote\n",
    "different types of site, which incur different rewards and successor\n",
    "states. See below for what these 'Codes' mean.\n",
    "\n",
    "Possible actions are north (0), south (1), east (2), and west (3).\n",
    "\n",
    "The Q-learning algorithm is used to adapt Q-values, which start off\n",
    "random and small.  After learning, the best policy based on the\n",
    "learned Q-values is shown in white."
   ]
  },
  {
   "cell_type": "code",
   "execution_count": 8,
   "metadata": {
    "collapsed": false
   },
   "outputs": [],
   "source": [
    "%matplotlib inline\n",
    "import sys\n",
    "import numpy as np\n",
    "import numpy.random as rng\n",
    "import matplotlib\n",
    "import matplotlib.pyplot as plt\n",
    "import matplotlib.cm as cm  # for the colormap\n",
    "matplotlib.rcParams['figure.figsize'] = (20.0, 10.0)"
   ]
  },
  {
   "cell_type": "code",
   "execution_count": 9,
   "metadata": {
    "collapsed": true
   },
   "outputs": [],
   "source": [
    "def doOneStep(r,c,Q):\n",
    "\n",
    "    # Epsilon-greedy policy:\n",
    "    if rng.random() > EPSILON: # be greedy w.r.t. current Q values\n",
    "        localQs = Q[r,c,:]\n",
    "        action = np.argmax(localQs)\n",
    "        #print('yes ')\n",
    "    else:   # this is the random exploration hack.\n",
    "        #print('heck')\n",
    "        action = rng.randint(4)   \n",
    "\n",
    "    if action==0: new_r,new_c = r-1,c # north\n",
    "    if action==1: new_r,new_c = r+1,c # south\n",
    "    if action==2: new_r,new_c = r,c+1 # east\n",
    "    if action==3: new_r,new_c = r,c-1 # west\n",
    "\n",
    "    # If you arrive in a GOAL state, update Q[r,c] towards 0.\n",
    "    if world[new_r,new_c] == GOAL:\n",
    "        change = (0.0 + 0.0  - Q[r,c,action])\n",
    "    # If arrive in a RESTART state, it's supposed to hurt...\n",
    "    # and there is no successor state to account for this episode\n",
    "    elif world[new_r,new_c] == RESTART:\n",
    "        reward = -100.0\n",
    "        change = (reward + 0.0 - Q[r,c,action])\n",
    "    # If about to hit a WALL site, set (new_r,new_c)=(r,c), update Q.\n",
    "    elif world[new_r,new_c] == WALL:\n",
    "        new_r,new_c = r,c # you can't go through the wall...\n",
    "        reward = -2.0     # ..and it hurt to hit it.\n",
    "        best_action = np.argmax(Q[new_r,new_c,:]) \n",
    "        change = (reward + GAMMA*Q[new_r,new_c,best_action] - Q[r,c,action])\n",
    "    else:\n",
    "        reward = -1.0\n",
    "        best_action = np.argmax(Q[new_r,new_c,:]) \n",
    "        # nb. this is the greedy action: this is Q-learning, not SARSA\n",
    "        change = (reward + GAMMA*Q[new_r,new_c,best_action] - Q[r,c,action])\n",
    "\n",
    "    # update Q of the previous state-action pair.\n",
    "    Q[r,c,action] = Q[r,c,action] + LEARNINGRATE*change\n",
    "    return new_r,new_c,Q\n",
    "\n",
    "\n",
    "def doOneEpisode(Q):\n",
    "    # choose randomly from the available starting positions\n",
    "    whichStart = rng.randint(len(start_positions))\n",
    "    r,c = start_positions[whichStart,0],start_positions[whichStart,1]\n",
    "    while world[r,c] in (START,VACANT):\n",
    "        r,c,Q = doOneStep(r,c,Q)\n",
    "    return Q"
   ]
  },
  {
   "cell_type": "code",
   "execution_count": 10,
   "metadata": {
    "collapsed": true
   },
   "outputs": [],
   "source": [
    "LEARNINGRATE = 0.2 \n",
    "GAMMA = 0.9        # the discount rate.\n",
    "EPSILON = 0.2      # prob of a totally random action. Nuts!\n",
    "\n",
    "# Codes: the different types of site in the grid-world.\n",
    "WALL = 0    # impenetrable, hurts a bit\n",
    "RESTART = 1 # an early, painful, exit\n",
    "VACANT = 2  # small negative reinforcement\n",
    "START = 3   # same as VACANT, and used to start runs\n",
    "GOAL = 4    # exits without reinforcement"
   ]
  },
  {
   "cell_type": "code",
   "execution_count": 11,
   "metadata": {
    "collapsed": false
   },
   "outputs": [
    {
     "name": "stdout",
     "output_type": "stream",
     "text": [
      "[[0 0 0 0 0 0 0 0 0 0 0 0 0 0 0 0]\n",
      " [0 3 2 1 1 1 1 1 1 1 1 1 1 2 4 0]\n",
      " [0 2 2 2 2 2 2 2 2 2 2 2 2 2 2 0]\n",
      " [0 2 2 2 2 2 2 2 2 2 2 2 2 2 2 0]\n",
      " [0 2 2 2 2 2 2 2 2 2 2 2 2 2 2 0]\n",
      " [0 2 2 2 2 2 2 2 2 2 2 2 2 2 2 0]\n",
      " [0 2 2 2 2 2 2 2 2 2 2 2 2 2 2 0]\n",
      " [0 0 0 0 0 0 0 0 0 0 0 0 0 0 0 0]]\n"
     ]
    }
   ],
   "source": [
    "world = np.genfromtxt('Cliff.txt',int)  # try 'Corner.txt' too...\n",
    "print(world)\n",
    "start_positions = np.transpose(np.where(world == 3))\n",
    "\n",
    "numrows, numcols, numacts = world.shape[0], world.shape[1], 4\n",
    "\n",
    "Q = 0.01*rng.random((numrows, numcols, numacts))\n",
    "max_row = numrows-1\n",
    "max_col = numcols-1"
   ]
  },
  {
   "cell_type": "markdown",
   "metadata": {},
   "source": [
    "The codes have these meanings:\n",
    "\n",
    "| # | behaviour and reward | colour |\n",
    "|------|------| ------|\n",
    "| 0 | wall (impenetrable) and -2 | BLACK |\n",
    "| 1 | restart and -100 | GREEN |\n",
    "| 2 | vacant/available site, with -1 reward | BROWN |\n",
    "| 3 | ditto (and is a start state) | PURPLE |\n",
    "| 4 | goal state (exit with reward 0) | WHITE |\n"
   ]
  },
  {
   "cell_type": "code",
   "execution_count": 12,
   "metadata": {
    "collapsed": false
   },
   "outputs": [
    {
     "name": "stdout",
     "output_type": "stream",
     "text": [
      "0\n",
      "1000\n",
      "2000\n",
      "3000\n",
      "4000\n",
      "5000\n",
      "6000\n",
      "7000\n",
      "8000\n",
      "9000\n"
     ]
    }
   ],
   "source": [
    "# do some learning\n",
    "for i in range(10000):\n",
    "    if (i%1000==0): print (i)\n",
    "    Q = doOneEpisode(Q)"
   ]
  },
  {
   "cell_type": "code",
   "execution_count": 13,
   "metadata": {
    "collapsed": false
   },
   "outputs": [
    {
     "data": {
      "image/png": "[encoded data removed]",
      "text/plain": [
       "<matplotlib.figure.Figure at 0x7f4157cb2b38>"
      ]
     },
     "metadata": {},
     "output_type": "display_data"
    }
   ],
   "source": [
    "# plot the world\n",
    "fig = plt.figure()\n",
    "ax = fig.add_subplot(211)\n",
    "ax.imshow(world, cmap=cm.cubehelix, interpolation='nearest')\n",
    "\n",
    "# Show the policy that's greedy w.r.t. Q now\n",
    "policy = np.argmax(Q,2)\n",
    "markers = ['^','v','>','<']\n",
    "xoff = 0.3*np.array([0,0,1,-1])\n",
    "yoff = 0.3*np.array([-1,1,0,0])\n",
    "for r in range(numrows):\n",
    "    for c in range(numcols):\n",
    "        if world[r,c] not in (RESTART,WALL,GOAL):\n",
    "            i = policy[r,c]\n",
    "            plt.plot([c,c+xoff[i]],[r,r+yoff[i]],'-w') # to make an arrow...!\n",
    "            plt.plot([c+xoff[i]],[r+yoff[i]],marker=markers[i],\n",
    "                     markerfacecolor='w',markeredgecolor='w',markersize=4)\n",
    "plt.axis('off')\n",
    "plt.show()"
   ]
  },
  {
   "cell_type": "code",
   "execution_count": null,
   "metadata": {
    "collapsed": true
   },
   "outputs": [],
   "source": []
  },
  {
   "cell_type": "code",
   "execution_count": null,
   "metadata": {
    "collapsed": true
   },
   "outputs": [],
   "source": []
  }
 ],
 "metadata": {
  "kernelspec": {
   "display_name": "Python 3",
   "language": "python",
   "name": "python3"
  },
  "language_info": {
   "codemirror_mode": {
    "name": "ipython",
    "version": 3
   },
   "file_extension": ".py",
   "mimetype": "text/x-python",
   "name": "python",
   "nbconvert_exporter": "python",
   "pygments_lexer": "ipython3",
   "version": "3.5.1"
  }
 },
 "nbformat": 4,
 "nbformat_minor": 0
}
