{
 "cells": [
  {
   "cell_type": "markdown",
   "metadata": {},
   "source": [
    "# the backprop algorithm\n",
    "\n",
    "Note the use of \"checkgrad\", which exhaustively confirms that the gradient calculation is in fact correct - not something to run all the time but a useful check to have.\n",
    "\n",
    "Issues:\n",
    "  * the neural net has no biases yet\n",
    "  * the learning problem is just random - better if we could read in a training set"
   ]
  },
  {
   "cell_type": "code",
   "execution_count": 1,
   "metadata": {
    "collapsed": false
   },
   "outputs": [],
   "source": [
    "import numpy as np\n",
    "import numpy.random as rng\n",
    "import sklearn\n",
    "import sklearn.datasets as ds\n",
    "import sklearn.cross_validation as cv\n",
    "import sklearn.neighbors as nb\n",
    "import matplotlib.pyplot as plt\n",
    "%matplotlib inline\n",
    "np.set_printoptions(precision=2,suppress=True) #prints floats shorter"
   ]
  },
  {
   "cell_type": "markdown",
   "metadata": {},
   "source": [
    "### specify a neuron transfer function ('f'), and its derivative ('df')"
   ]
  },
  {
   "cell_type": "code",
   "execution_count": 2,
   "metadata": {
    "collapsed": false
   },
   "outputs": [],
   "source": [
    "# THESE FUNCTIONS MUST MATCH ONE ANOTHER................\n",
    "\n",
    "def f( phi, transfer='linear'): \n",
    "    npats, nunits = phi.shape\n",
    "    # phi is always going to be a weighted sum (probably a matrix of).\n",
    "    if (transfer == 'linear'): return (phi)\n",
    "    elif (transfer == 'sigmoid'): return (1.0/ (1.0 + np.exp(-phi)))\n",
    "    elif  (transfer == 'relu'): return (phi * (phi>0.0))\n",
    "    elif  (transfer == 'softmax'): \n",
    "        # get the max for each row, and reshape so it broadcasts nice.\n",
    "        shift = phi.max(axis=1).reshape((npats,1)) \n",
    "        ePhi = np.exp(phi-shift) # so the max in exp is 0.\n",
    "        Z = ePhi.sum(axis=1).reshape((npats,1))\n",
    "        return (ePhi/Z)\n",
    "    else: return None\n",
    "\n",
    "def df( x, transfer='linear'):  \n",
    "    # MUST MATCH WHAT YOU PUT HERE with the f function.\n",
    "    # This is the gradient of the transfer function\n",
    "    # with respect to \"phi\", the weighted sum of inputs to the neuron.\n",
    "    #\n",
    "    # IMPORTANT: NOTE that unlike f(), the input argument isn't phi \n",
    "    # here - it's the function value itself after going thru non-linearity.\n",
    "\n",
    "    if (transfer == 'linear'): \n",
    "        return (np.ones(shape=x.shape,dtype=float))\n",
    "        # return (1.0)  would probably work just the same!\n",
    "    elif (transfer == 'sigmoid'): return (x*(1.0-x))\n",
    "    elif  (transfer == 'relu'): return (1.0*(x>0.0))\n",
    "    elif  (transfer == 'softmax'): return (x*(1.0-x))\n",
    "    else: return None\n"
   ]
  },
  {
   "cell_type": "markdown",
   "metadata": {},
   "source": [
    "### get or make some training data\n",
    "Got to have something to work on."
   ]
  },
  {
   "cell_type": "code",
   "execution_count": 3,
   "metadata": {
    "collapsed": false
   },
   "outputs": [
    {
     "name": "stdout",
     "output_type": "stream",
     "text": [
      "input means:  -8.5798035343e-18\n",
      "input variances:  1.0\n"
     ]
    }
   ],
   "source": [
    "# I'm going to be dumb here and make them from my very own random perceptrons!\n",
    "# However you do it, call the input patterns \"inputX\" (each row is a pattern), and the output patterns \"targets\".\n",
    "Nins, Nouts, Npats = 50, 5, 1000\n",
    "inputX = rng.normal(0,1,size=(Npats,Nins))\n",
    "inputX = inputX - inputX.mean(axis=0)  # mean zero\n",
    "inputX = inputX / np.sqrt(inputX.var(axis=0)) # variance one\n",
    "#print (inputX[:3, :]) # just a sanity check\n",
    "print ('input means: ',inputX.mean())\n",
    "print ('input variances: ',inputX.var())\n",
    "Targ = np.zeros((Npats,Nouts))\n",
    "\n",
    "tmpNhids = 10\n",
    "tmp_weights = 1./Nins  * rng.normal(0,1,size=(Nins,tmpNhids))\n",
    "hidphi = np.dot(inputX, tmp_weights)\n",
    "H = f(hidphi,'sigmoid')\n",
    "tmp_weights = 1./np.sqrt(tmpNhids) * rng.normal(0,1,size=(tmpNhids,Nouts))\n",
    "outphi = np.dot(H, tmp_weights)\n",
    "\n",
    "## NOTE sampling of Targ should reflect choice of y transfer fn here:\n",
    "y = f(10.*outphi, 'softmax')\n",
    "for n in range(Npats):\n",
    "    t = np.random.choice(Nouts, 1, p=y[n]) # choose from Categorical\n",
    "    Targ[n,t]=1\n",
    "\n",
    "#print (y[:3, :]) # just a sanity check\n",
    "#print (Targ[:3, :]) # just a sanity check"
   ]
  },
  {
   "cell_type": "code",
   "execution_count": 4,
   "metadata": {
    "collapsed": false
   },
   "outputs": [
    {
     "name": "stdout",
     "output_type": "stream",
     "text": [
      "(array([], dtype=int64),)\n",
      "(1797, 64) (1797, 10)\n",
      "-1.0 1.0\n",
      "[[ 1.  0.  0.  0.  0.  0.  0.  0.  0.  0.]\n",
      " [ 0.  1.  0.  0.  0.  0.  0.  0.  0.  0.]\n",
      " [ 0.  0.  1.  0.  0.  0.  0.  0.  0.  0.]\n",
      " [ 0.  0.  0.  1.  0.  0.  0.  0.  0.  0.]\n",
      " [ 0.  0.  0.  0.  1.  0.  0.  0.  0.  0.]]\n"
     ]
    }
   ],
   "source": [
    "# That's groovy for testing: you can give the learner net the \n",
    "# same structure and it should \"get there\" reliably.\n",
    "#\n",
    "# But it would be more interesting to use some realistic data too.\n",
    "# This is a classification dataset, so we should have softmax for the output).\n",
    "if True:\n",
    "    digits = ds.load_digits()\n",
    "    inputX = digits.data\n",
    "    Npats = inputX.shape[0]\n",
    "    inputX = inputX - inputX.mean(axis=0)  # mean zero\n",
    "    max_in, min_in = inputX.ravel().max(), inputX.ravel().min() \n",
    "    inputX = 2.0*(inputX - min_in)/(max_in - min_in) - 1.0\n",
    "    print (np.where(inputX.var(axis=0) == 0.0))\n",
    "    #assert np.all(inputX.var(axis=0)), 'some inputs have no variance!'\n",
    "    #inputX = inputX / np.sqrt(inputX.var(axis=0)) # variance one\n",
    "    \n",
    "    target_classes = digits.target  # currently a vector - but we want a nx1 matrix,so...\n",
    "    Nouts = np.max(target_classes)+1\n",
    "    Targ = np.zeros((Npats,Nouts)) \n",
    "    for n in range(Npats):  # There has to be a better way by anyways...\n",
    "        t = target_classes[n]\n",
    "        Targ[n,t]=1\n",
    "    print(inputX.shape, Targ.shape)\n",
    "    print(inputX.min(), inputX.max())\n",
    "    print(Targ[:5])"
   ]
  },
  {
   "cell_type": "code",
   "execution_count": 5,
   "metadata": {
    "collapsed": false
   },
   "outputs": [
    {
     "name": "stdout",
     "output_type": "stream",
     "text": [
      "Nins: 64, Nouts: 10, Npats: 1797\n"
     ]
    }
   ],
   "source": [
    "Npats, Nins = inputX.shape\n",
    "Nouts = Targ.shape[1]\n",
    "print('Nins: %d, Nouts: %d, Npats: %d' % (Nins, Nouts, Npats))"
   ]
  },
  {
   "cell_type": "markdown",
   "metadata": {},
   "source": [
    "### set the network's architecture"
   ]
  },
  {
   "cell_type": "code",
   "execution_count": 6,
   "metadata": {
    "collapsed": true
   },
   "outputs": [],
   "source": [
    "def initialise_net_structure(inputX, architecture, transfer_func):\n",
    "\n",
    "    Nlayers = len(architecture)\n",
    "    assert len(transfer_func) == Nlayers, 'you need a transfer function for every layer'\n",
    "    assert not((Nouts==1) and (transfer_func[-1]=='softmax')), 'softmax of 1 output makes no sense!'\n",
    "    print ('There are this many neurons in each layer: ', architecture)  # a list of the number of neurons in each layer\n",
    "    print ('Transfer of each processing layer: ', transfer_func[1:]) \n",
    "\n",
    "    X = [inputX] \n",
    "    # X is going to be a list giving the activations of successive layers. \n",
    "    # Each one is a matrix, whose columns are the neurons in that layer.\n",
    "    # Each row in the matrix corresponds to a training item.\n",
    "    # So all the matrices in the list X will have the same number of rows.\n",
    "\n",
    "    for L in range(1, len(architecture)):\n",
    "        X.append(np.zeros(shape=(Npats, architecture[L]), dtype=float))\n",
    "\n",
    "    for L in range(len(architecture)): \n",
    "        print('layer %d activations have shape ' %(L), X[L].shape)\n",
    "    \n",
    "    return X"
   ]
  },
  {
   "cell_type": "code",
   "execution_count": 7,
   "metadata": {
    "collapsed": false
   },
   "outputs": [
    {
     "name": "stdout",
     "output_type": "stream",
     "text": [
      "There are this many neurons in each layer:  [64, 10, 10]\n",
      "Transfer of each processing layer:  ['sigmoid', 'softmax']\n",
      "layer 0 activations have shape  (1797, 64)\n",
      "layer 1 activations have shape  (1797, 10)\n",
      "layer 2 activations have shape  (1797, 10)\n"
     ]
    }
   ],
   "source": [
    "arch  = [Nins, 10, Nouts]  # here, small and simple as it's a test.\n",
    "trans = ['linear', 'sigmoid', 'softmax'] \n",
    "# NOTE: first is ALWAYS linear, as it's just the input itself.\n",
    "# I don't think I use it anywhere, anyway!\n",
    "X = initialise_net_structure(inputX, arch, trans)"
   ]
  },
  {
   "cell_type": "markdown",
   "metadata": {},
   "source": [
    "### set up the weights"
   ]
  },
  {
   "cell_type": "code",
   "execution_count": 8,
   "metadata": {
    "collapsed": true
   },
   "outputs": [],
   "source": [
    "# Then we have the weights. I'm going to index the weight layer \n",
    "# according to the layer they're *coming from*.\n",
    "# So I'll have a zeroth weight layer.\n",
    "# NOTE: no implementation of bias weights here, yet!\n",
    "def initialise_weights(X):\n",
    "    W  = [] #[np.array(None)]\n",
    "    for L in range(0,len(X)-1):\n",
    "        init_weights_scale = 0.1  #1/np.sqrt((X[L].shape()).max())\n",
    "\n",
    "        Nins = X[L].shape[1]\n",
    "        Nouts = X[L+1].shape[1]\n",
    "        W.append(init_weights_scale * rng.normal(0,1,size=(Nouts, Nins)) )\n",
    "\n",
    "    for L in range(len(W)):\n",
    "        print('layer %d weights have shape ' %(L), W[L].shape)\n",
    "        \n",
    "    # while we're at it, make space for the gradients so we're not constantly reallocating\n",
    "    dW = []\n",
    "    for w in W:\n",
    "        dW.append(np.zeros(w.shape, dtype=float))\n",
    "        \n",
    "    return W, dW"
   ]
  },
  {
   "cell_type": "code",
   "execution_count": 9,
   "metadata": {
    "collapsed": false
   },
   "outputs": [
    {
     "name": "stdout",
     "output_type": "stream",
     "text": [
      "layer 0 weights have shape  (10, 64)\n",
      "layer 1 weights have shape  (10, 10)\n"
     ]
    }
   ],
   "source": [
    "       \n",
    "W, dW = initialise_weights(X)"
   ]
  },
  {
   "cell_type": "markdown",
   "metadata": {},
   "source": [
    "### The function we're climbing"
   ]
  },
  {
   "cell_type": "code",
   "execution_count": 10,
   "metadata": {
    "collapsed": false
   },
   "outputs": [
    {
     "name": "stdout",
     "output_type": "stream",
     "text": [
      "(-2.0, array([-0.5, -0.5, -0.5, -0.5]), array([1, 1, 1, 1]))\n"
     ]
    }
   ],
   "source": [
    "def calc_goodness(Y, Targ, output_function='linear'):  \n",
    "    # often this is called the \"Loss\" or the \"Cost function\" \n",
    "    # (and given a minus sign accordingly).\n",
    "    # Y and Targ are matrices of shape (Npats, Nouts).\n",
    "    #\n",
    "    # dGoodness is the gradient w.r.t. the phi of the output layer,\n",
    "    # where phi is the weighted sum into each of those output units.\n",
    "    # GOTCHA: this means that in backprop, we won't need to push the \n",
    "    # gradients through the non-linearity of the output layer: they've \n",
    "    # already done that, here.\n",
    "    if (output_function in ['linear','relu']):\n",
    "        Goodness_vec = -0.5*np.power(Targ - Y, 2.0) # inverted parabola centered on the target outputs\n",
    "        dGoodness_vec = Targ - Y\n",
    "        \n",
    "    elif (output_function == 'sigmoid'): \n",
    "        Goodness_vec = Targ * np.log(Y)  +  (1-Targ) * np.log(1-Y) \n",
    "        dGoodness_vec = Targ - Y\n",
    "\n",
    "    elif (output_function == 'softmax'):  # for softmax though it's going to be...\n",
    "        Goodness_vec = np.multiply(Targ, np.log(Y))\n",
    "        dGoodness_vec = Targ - Y\n",
    "\n",
    "    # TESTING...\n",
    "    #Goodness_vec = np.ones(shape=Targ.shape, dtype=float)\n",
    "    #dGoodness_vec = 0.0*np.ones(shape=Targ.shape, dtype=float)\n",
    "    return Goodness_vec.sum(), Goodness_vec, dGoodness_vec\n",
    "\n",
    "# quick dumb test\n",
    "print(calc_goodness(np.arange(1,5), np.arange(1,5)+1))"
   ]
  },
  {
   "cell_type": "markdown",
   "metadata": {},
   "source": [
    "### forward pass\n",
    "Notation:\n",
    "   * superscript $l$ denotes the layer\n",
    "   * $\\Phi$ is weighted sum (as a vector over all units in a layer)\n",
    "   * $f_l(\\Phi)$ denotes the transfer function in use at layer $l$\n",
    "\n",
    "So the forward pass through a layer can be written as a $\\Phi^{l} \\longrightarrow \\Phi^{l+1}$ function:\n",
    "\n",
    "$$ \\Phi^{l+1} = W^{l} \\cdot f_{l}(\\Phi^{l}) $$\n",
    "where the dot stands for matrix multiplication.\n",
    "\n",
    "It's fun to write this out \"long hand\" like this;\n",
    "\n",
    "$$\\begin{align} \n",
    "\\Phi^{L} &= W^{L-1} \\cdot f_{L-1}(\\Phi^{L-1})  \n",
    "\\\\\n",
    "&= W^{L-1} \\cdot f_{L-1}\\big(W^{L-2} \\cdot f_{L-2}(\\Phi^{L-2}) \\big) \n",
    "\\\\\n",
    "&= W^{L-1} \\cdot f_{L-1}\\big(W^{L-2} \\cdot f_{L-2}\\big(W^{L-3} \\cdot f_{L-3}\\big(\\Phi^{L-3}\\big)\\big) \\big) \n",
    "\\end{align} $$\n"
   ]
  },
  {
   "cell_type": "code",
   "execution_count": 11,
   "metadata": {
    "collapsed": false
   },
   "outputs": [],
   "source": [
    "def forward_pass(X, W, transfer_fns):\n",
    "    for layer in range(1,len(X)):\n",
    "        phi = np.dot(W[layer-1], X[layer-1].transpose()).transpose()\n",
    "        X[layer] = f(phi, transfer_fns[layer])\n",
    "    return X"
   ]
  },
  {
   "cell_type": "markdown",
   "metadata": {},
   "source": [
    "### backward pass\n",
    "Notation:\n",
    "   * here I'll use $\\mathcal{L}$ as the loss. In the code I talk about \"goodness\", but just insert a minus if you want to convert!...\n",
    "   * capital $L$ refers to the final layer, where outputs are generated.\n",
    "   * let's denote the number of units in layer $l$ as $N^l$.\n",
    "   \n",
    "By the chain rule, the whole gradient for some weights in layer $l$ is:\n",
    "\n",
    "$$ \\frac{\\partial \\mathcal{L}}{\\partial \\Phi^l} = \\underbrace{\\frac{\\partial \\mathcal{L}}{\\partial \\Phi^L}}_\\text{A} \\; \\cdot \\; \\underbrace{\\frac{\\partial \\Phi^{L}}{\\partial \\Phi^{L-1}} \\cdots \\frac{\\partial \\Phi^{l+2}}{\\partial \\Phi^{l+1}}}_\\text{B}  \\; \\cdot \\; \\underbrace{\\frac{\\partial \\Phi^{l+1}}{\\partial W^{l}}}_\\text{C} $$\n",
    "\n",
    "In this \"vectorial\" form this looks nice and compact. Remember each of these is really a matrix though. The numerator's vector elements are rows, the denominator elts are columns of this matrix. So: \n",
    "   * A's shape is $(1 \\times N^L)$. \n",
    "   * B's shapes are $(N^{L} \\times N^{L-1})$, \\;...\\; ,$(N^{l+2} \\times N^{l+1})$.\n",
    "   * C is a tensor (matrix with 3 axes) with shape $(N^{l+1} \\times \\underbrace{N^{l+1} \\times N^{l}}_\\text{shape of $W^l$})$ \n",
    "\n"
   ]
  },
  {
   "cell_type": "markdown",
   "metadata": {},
   "source": [
    "B has a recursive flavour: the gradient is pushed back through each layer in turn. What happens to it along the way?\n",
    "By the chain rule as usual:\n",
    "\n",
    "$\\displaystyle\\frac{\\partial \\Phi^{l+1}}{\\partial \\Phi^{l}} = W^{l} \\cdot \\frac{\\partial f^{l}}{\\partial \\phi} \\bigg|_{\\phi=\\Phi^{l}}$\n",
    "\n",
    "ie. we take the gradient of the transfer function, evaluated at $\\Phi^{l}$, and push it back through the weights matrix. I've written it all as a vector here: if that's confusing try doing it for a specific element, and then convince yourself that it can be \"vectorised\".\n",
    "\n",
    "\n",
    "So the backward pass through a layer can be written as a $\\Phi^{l} \\longrightarrow \\Phi^{l+1}$ function:\n",
    "\n",
    "$$ \\Phi^{l+1} = W^{l} \\cdot f_{l}(\\Phi^{l}) $$"
   ]
  },
  {
   "cell_type": "code",
   "execution_count": 12,
   "metadata": {
    "collapsed": false
   },
   "outputs": [],
   "source": [
    "def backward_pass(X, W, targets, transfer_fns):\n",
    "    \"\"\" Calculates the gradient of every weight in the network\"\"\"\n",
    "    g1, g2, dgood = calc_goodness(X[-1], targets, transfer_fns[-1])\n",
    "    epsilon = dgood\n",
    "    for L in range(len(W), 0, -1):\n",
    "        if L==len(W):\n",
    "            psi = epsilon #it has already been through transfer fn...\n",
    "        if L<len(W):\n",
    "            psi = epsilon * df(X[L], transfer_fns[L]) # elt-wise multiply\n",
    "        n1, n2 = X[L-1].shape[1], psi.shape[1]\n",
    "        A = np.tile(X[L-1],n2).reshape(Npats,n2,n1)\n",
    "        B = np.repeat(psi,n1).reshape(Npats,n2,n1)        \n",
    "        dW[L-1] = (A*B).sum(0) # outer product multiply\n",
    "        epsilon = np.dot(psi, W[L-1]) # inner product multiply\n",
    "    return dW"
   ]
  },
  {
   "cell_type": "code",
   "execution_count": 13,
   "metadata": {
    "collapsed": false
   },
   "outputs": [],
   "source": [
    "X = forward_pass(X, W, trans)\n",
    "dW = backward_pass(X, W, Targ, trans)"
   ]
  },
  {
   "cell_type": "code",
   "execution_count": 14,
   "metadata": {
    "collapsed": false
   },
   "outputs": [],
   "source": [
    "def checkgrad(dW, X, W, targets, transfer_fns):\n",
    "    # Check the gradient directly, via perturbations to every weight.\n",
    "    # This is completely daft in practical terms, but very useful for debugging.\n",
    "    # ie. it tells you whether your backprop of errors really is returning the true gradient.\n",
    "    tiny = 0.00000001\n",
    "    \n",
    "    dW_test = []\n",
    "    for w in W:\n",
    "        dW_test.append(np.zeros(w.shape, dtype=float))\n",
    "\n",
    "    X = forward_pass(X,W, transfer_fns)\n",
    "    base_good, tmp1, tmp2 = calc_goodness(X[-1], targets, transfer_fns[-1])\n",
    "    \n",
    "    for L in range(0,len(W)):\n",
    "        for j in range(W[L].shape[0]): # index of destination node\n",
    "            for i in range(W[L].shape[1]): # index of origin node\n",
    "                # perturb that weight\n",
    "                (W[L])[j,i] = (W[L])[j,i] + tiny\n",
    "                # compute and store the empirical gradient estimate\n",
    "                X = forward_pass(X, W, transfer_fns)\n",
    "                tmp_good, tmp1, tmp2 = calc_goodness(X[-1], targets, transfer_fns[-1])\n",
    "                (dW_test[L])[j,i] = (tmp_good - base_good)/tiny                \n",
    "                # unperturb the weight\n",
    "                (W[L])[j,i] = (W[L])[j,i] - tiny\n",
    "                \n",
    "    # show the result?\n",
    "    for L in range(0,len(W)):\n",
    "        print ('Layer %d max disagreement: %f'  % (L, ((np.abs(dW[L] - dW_test[L])).ravel().max())))\n",
    "        #print ('-------------- layer %d --------------' %(L))\n",
    "        #print ('calculated gradients:')\n",
    "        #print (dW[L])\n",
    "        #print ('empirical gradients:')\n",
    "        #print (dW_test[L])        "
   ]
  },
  {
   "cell_type": "markdown",
   "metadata": {},
   "source": [
    "Checkgrad is slow, so I'll try it only for small nets."
   ]
  },
  {
   "cell_type": "code",
   "execution_count": 15,
   "metadata": {
    "collapsed": false
   },
   "outputs": [
    {
     "name": "stdout",
     "output_type": "stream",
     "text": [
      "Layer 0 max disagreement: 0.000112\n",
      "Layer 1 max disagreement: 0.000124\n"
     ]
    }
   ],
   "source": [
    "checkgrad(dW, X, W, Targ, trans)"
   ]
  },
  {
   "cell_type": "markdown",
   "metadata": {},
   "source": [
    "## yay.\n",
    "The gradient seems to be right for the full MLP, so that's... progress!\n",
    "\n",
    "Let's try learning the problem then...."
   ]
  },
  {
   "cell_type": "code",
   "execution_count": 16,
   "metadata": {
    "collapsed": false
   },
   "outputs": [],
   "source": [
    "def learn(X, W, targets, transfer_fns, learning_rate=0.01, momentum=0.1, num_steps=1):\n",
    "    # note dW and prev_change are of the same size as W - we'll make space for them first\n",
    "    times, vals = [], []\n",
    "    next_time = 0\n",
    "    How_Often = 1 # how often to report progress points\n",
    "    \n",
    "    # make space for saving changes to weights, and initialise to zero.\n",
    "    prev_change = []\n",
    "    for L in range(0,len(W)):\n",
    "        prev_change.append(0.0 * np.copy(W[L]))\n",
    "    \n",
    "    # now for the learning iterations\n",
    "    for step in range(num_steps):\n",
    "        X = forward_pass(X, W, transfer_fns)\n",
    "        \n",
    "        # this is just record-keeping.......\n",
    "        if step == next_time:\n",
    "            good_sum, good_vec, dgood = calc_goodness(X[-1], targets, transfer_fns[-1])\n",
    "            vals.append(good_sum)\n",
    "            times.append(step)\n",
    "            next_time = step + How_Often\n",
    "\n",
    "        dW = backward_pass(X, W, targets, transfer_fns)\n",
    "        \n",
    "        for L in range(0,len(W)):\n",
    "            change =  (learning_rate * dW[L]) + (momentum * prev_change[L])\n",
    "            W[L] = W[L] + change\n",
    "            prev_change[L] = change\n",
    "\n",
    "    return W, times, vals"
   ]
  },
  {
   "cell_type": "markdown",
   "metadata": {},
   "source": [
    "## Train new network with random weights\n"
   ]
  },
  {
   "cell_type": "code",
   "execution_count": 17,
   "metadata": {
    "collapsed": false
   },
   "outputs": [
    {
     "name": "stdout",
     "output_type": "stream",
     "text": [
      "There are this many neurons in each layer:  [64, 20, 10, 10]\n",
      "Transfer of each processing layer:  ['sigmoid', 'sigmoid', 'softmax']\n",
      "layer 0 activations have shape  (1797, 64)\n",
      "layer 1 activations have shape  (1797, 20)\n",
      "layer 2 activations have shape  (1797, 10)\n",
      "layer 3 activations have shape  (1797, 10)\n",
      "layer 0 weights have shape  (20, 64)\n",
      "layer 1 weights have shape  (10, 20)\n",
      "layer 2 weights have shape  (10, 10)\n"
     ]
    }
   ],
   "source": [
    "arch  = [Nins, 20, 10,  Nouts]\n",
    "trans = ['linear', 'sigmoid', 'sigmoid', 'softmax'] \n",
    "X = initialise_net_structure(inputX, arch, trans)\n",
    "W, dW = initialise_weights(X)"
   ]
  },
  {
   "cell_type": "markdown",
   "metadata": {},
   "source": [
    "#### Do it.\n",
    "Run this next cell as often as you want, as learning picks up where it left off."
   ]
  },
  {
   "cell_type": "code",
   "execution_count": 18,
   "metadata": {
    "collapsed": false
   },
   "outputs": [
    {
     "data": {
      "text/plain": [
       "[<matplotlib.lines.Line2D at 0x7fcfc08786a0>,\n",
       " <matplotlib.lines.Line2D at 0x7fcfc0878828>]"
      ]
     },
     "execution_count": 18,
     "metadata": {},
     "output_type": "execute_result"
    },
    {
     "data": {
      "image/png": "[encoded data removed]",
      "text/plain": [
       "<matplotlib.figure.Figure at 0x7fcfd3871d68>"
      ]
     },
     "metadata": {},
     "output_type": "display_data"
    }
   ],
   "source": [
    "W, times, vals = learn(X, W, Targ, trans, \n",
    "                       learning_rate=0.0001, \n",
    "                       momentum=0.9, \n",
    "                       num_steps=400)\n",
    "\n",
    "plt.plot(times, vals, 'ob',  times, vals, '-k', alpha=0.5)"
   ]
  }
 ],
 "metadata": {
  "kernelspec": {
   "display_name": "Python 3",
   "language": "python",
   "name": "python3"
  },
  "language_info": {
   "codemirror_mode": {
    "name": "ipython",
    "version": 3
   },
   "file_extension": ".py",
   "mimetype": "text/x-python",
   "name": "python",
   "nbconvert_exporter": "python",
   "pygments_lexer": "ipython3",
   "version": "3.5.1"
  }
 },
 "nbformat": 4,
 "nbformat_minor": 0
}
