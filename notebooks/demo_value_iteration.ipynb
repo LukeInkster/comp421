{
 "cells": [
  {
   "cell_type": "markdown",
   "metadata": {},
   "source": [
    "# Value iteration demonstration"
   ]
  },
  {
   "cell_type": "markdown",
   "metadata": {},
   "source": [
    "As part of the Introduction to AI course (COMP307) at Victoria University, this is Marcus's code for running Value Iteration on the simple Grid-World example given in AIMA's exercise."
   ]
  },
  {
   "cell_type": "code",
   "execution_count": 11,
   "metadata": {
    "collapsed": false
   },
   "outputs": [
    {
     "name": "stdout",
     "output_type": "stream",
     "text": [
      "[[0 1 2]\n",
      " [3 4 5]\n",
      " [6 7 8]]\n"
     ]
    }
   ],
   "source": [
    "# setup\n",
    "import numpy as np\n",
    "np.set_printoptions(precision = 1)\n",
    "import pylab as pl\n",
    "%matplotlib inline  \n",
    "\n",
    "ind = np.ones((3,3), dtype = int)\n",
    "j=0\n",
    "for r in range(3):\n",
    "    for c in range(3):\n",
    "        ind[r,c] = j\n",
    "        j = j+1\n",
    "print(ind)  # ind is a helper, just allows me to get the transition probs right, easily."
   ]
  },
  {
   "cell_type": "markdown",
   "metadata": {},
   "source": [
    "Now set up the transition probabilities."
   ]
  },
  {
   "cell_type": "code",
   "execution_count": 12,
   "metadata": {
    "collapsed": false
   },
   "outputs": [],
   "source": [
    "acts = ['N','S','E','W']  # possible actions\n",
    "\n",
    "M = np.zeros(shape=(9, 9, len(acts)),dtype=float)\n",
    "for r in range(3):\n",
    "    for c in range(3):\n",
    "        a = acts.index('N')\n",
    "        M[ind[max(r-1,0),c], ind[r,c], a] += .8\n",
    "        M[ind[r,max(c-1,0)], ind[r,c], a] += .1\n",
    "        M[ind[r,min(c+1,2)], ind[r,c], a] += .1\n",
    "\n",
    "        a = acts.index('S')\n",
    "        M[ind[min(r+1,2),c], ind[r,c], a] += .8\n",
    "        M[ind[r,max(c-1,0)], ind[r,c], a] += .1\n",
    "        M[ind[r,min(c+1,2)], ind[r,c], a] += .1\n",
    "\n",
    "        a = acts.index('E')\n",
    "        M[ind[r,min(c+1,2)], ind[r,c], a] += .8\n",
    "        M[ind[max(r-1,0),c], ind[r,c], a] += .1\n",
    "        M[ind[min(r+1,2),c], ind[r,c], a] += .1\n",
    "        \n",
    "        a = acts.index('W')\n",
    "        M[ind[r,max(c-1,0)], ind[r,c], a] += .8\n",
    "        M[ind[max(r-1,0),c], ind[r,c], a] += .1\n",
    "        M[ind[min(r+1,2),c], ind[r,c], a] += .1"
   ]
  },
  {
   "cell_type": "markdown",
   "metadata": {},
   "source": [
    "## HOWEVER location 2 (top right) is an \"exit\": what is the transition to? \n",
    "\n",
    "The back-up TO that state should not change its Utility, which is just 10 in this case, no matter what follows. Simple as that!"
   ]
  },
  {
   "cell_type": "code",
   "execution_count": 3,
   "metadata": {
    "collapsed": false
   },
   "outputs": [
    {
     "name": "stdout",
     "output_type": "stream",
     "text": [
      "[ 1.  1.  1.  1.  1.  1.  1.  1.  1.]\n"
     ]
    }
   ],
   "source": [
    "print(M[:,:,0].sum(0))  # should all be 1."
   ]
  },
  {
   "cell_type": "markdown",
   "metadata": {},
   "source": [
    "And the rewards to be found in each state."
   ]
  },
  {
   "cell_type": "code",
   "execution_count": 4,
   "metadata": {
    "collapsed": false
   },
   "outputs": [
    {
     "name": "stdout",
     "output_type": "stream",
     "text": [
      "[[-1 -1 10]\n",
      " [-1 -1 -1]\n",
      " [-1 -1 -1]]\n"
     ]
    }
   ],
   "source": [
    "R = -1 * np.ones((9), dtype = int)\n",
    "R[2] = 10\n",
    "print (R.reshape((3,3)))"
   ]
  },
  {
   "cell_type": "code",
   "execution_count": 5,
   "metadata": {
    "collapsed": false
   },
   "outputs": [],
   "source": [
    "# Run the Value Iteration algorithm\n",
    "def ValueIteration(R):\n",
    "    gamma=.99\n",
    "    # initialise the value function\n",
    "    U = np.zeros((9), dtype=float)\n",
    "    for step in range(1000):\n",
    "        Unew = np.zeros((9), dtype=float) # I win no prizes for efficiency here!\n",
    "        for s in range(9):\n",
    "            if (s == 2):\n",
    "                Unew[2] = R[2] # this one isn't updated \"from the future\", because it's a terminal state.\n",
    "            else:\n",
    "                Unew[s] = R[s] + gamma * np.dot(M[:,s,:].transpose(), U).max()\n",
    "        U = Unew\n",
    "    return U.reshape((3,3))\n",
    "\n",
    "def display(R, V):\n",
    "    pl.subplot(1,2,1)\n",
    "    pl.imshow(R.reshape((3,3)), interpolation='nearest', cmap='gray')\n",
    "    pl.axis('off')\n",
    "    pl.title('r is %d' %(R[0]))\n",
    "    pl.subplot(1,2,2)\n",
    "    pl.imshow(V, interpolation='nearest', cmap='hot')\n",
    "    pl.axis('off')\n",
    "    pl.title('Optimal value function')"
   ]
  },
  {
   "cell_type": "markdown",
   "metadata": {},
   "source": [
    "# Run value iteration, for various rewards offered in the top-left site.\n",
    "\n",
    "We'll show the reward as a gray heatmap on the left, and the optimal value function as a \"hot\" heatmap on the right. The numbers are the actual utilities found after 1000 iterations of Value Iteration.\n",
    "\n",
    "Note the optimal policy can be directly read off the optimal value function: you just hill-climb on it...\n",
    "Oh no, wait a minute that's not quite right: we should use the value function together with the transition model to find the best action, which won't necessarily be just \"towards the highest value\".\n",
    "However in this case it _mostly_ will be. I have been lazy and not computed or displayed the optimal policy."
   ]
  },
  {
   "cell_type": "code",
   "execution_count": 6,
   "metadata": {
    "collapsed": false
   },
   "outputs": [
    {
     "name": "stdout",
     "output_type": "stream",
     "text": [
      "[[ 8771.5  8647.5    10. ]\n",
      " [ 8647.5  8538.7  8248.3]\n",
      " [ 8526.7  8432.3  8317.4]]\n"
     ]
    },
    {
     "data": {
      "image/png": "[encoded data removed]",
      "text/plain": [
       "<matplotlib.figure.Figure at 0x42dc6c8>"
      ]
     },
     "metadata": {},
     "output_type": "display_data"
    }
   ],
   "source": [
    "R[0] = 100\n",
    "optimal_values = ValueIteration(R)\n",
    "print(optimal_values)\n",
    "display(R, optimal_values)"
   ]
  },
  {
   "cell_type": "markdown",
   "metadata": {},
   "source": [
    "ie. Top-left is very valuable at r=100, so do your best to stay there. Avoid the exit!"
   ]
  },
  {
   "cell_type": "code",
   "execution_count": 7,
   "metadata": {
    "collapsed": false
   },
   "outputs": [
    {
     "name": "stdout",
     "output_type": "stream",
     "text": [
      "[[  4.7   8.5  10. ]\n",
      " [  5.6   7.1   8.5]\n",
      " [  4.6   5.8   7. ]]\n"
     ]
    },
    {
     "data": {
      "image/png": "[encoded data removed]",
      "text/plain": [
       "<matplotlib.figure.Figure at 0x43e8f48>"
      ]
     },
     "metadata": {},
     "output_type": "display_data"
    }
   ],
   "source": [
    "R[0] = -3\n",
    "optimal_values = ValueIteration(R)\n",
    "print(optimal_values)\n",
    "display(R, optimal_values)"
   ]
  },
  {
   "cell_type": "markdown",
   "metadata": {},
   "source": [
    "ie. Top-left is the worst place on earth (r=-3). Avoid it - run for the exit instead."
   ]
  },
  {
   "cell_type": "code",
   "execution_count": 8,
   "metadata": {
    "collapsed": false
   },
   "outputs": [
    {
     "name": "stdout",
     "output_type": "stream",
     "text": [
      "[[  8.2   8.5  10. ]\n",
      " [  6.9   7.2   8.5]\n",
      " [  5.6   6.    7. ]]\n"
     ]
    },
    {
     "data": {
      "image/png": "[encoded data removed]",
      "text/plain": [
       "<matplotlib.figure.Figure at 0x47c85c8>"
      ]
     },
     "metadata": {},
     "output_type": "display_data"
    }
   ],
   "source": [
    "R[0] = 0\n",
    "optimal_values = ValueIteration(R)\n",
    "print (optimal_values)\n",
    "display(R, optimal_values)"
   ]
  },
  {
   "cell_type": "markdown",
   "metadata": {},
   "source": [
    "ie. Top-left is r=0, so is _slightly_ better than other sites. Run for the exit, but via this state if there's a choice (ie. if you've come from the lower-left of the world)."
   ]
  },
  {
   "cell_type": "code",
   "execution_count": 9,
   "metadata": {
    "collapsed": false
   },
   "outputs": [
    {
     "name": "stdout",
     "output_type": "stream",
     "text": [
      "[[ 251.4  246.4   10. ]\n",
      " [ 246.4  242.1  230.6]\n",
      " [ 241.7  237.9  233.4]]\n"
     ]
    },
    {
     "data": {
      "image/png": "[encoded data removed]",
      "text/plain": [
       "<matplotlib.figure.Figure at 0x4aa50f8>"
      ]
     },
     "metadata": {},
     "output_type": "display_data"
    }
   ],
   "source": [
    "R[0] = 3.0\n",
    "optimal_values = ValueIteration(R)\n",
    "print (optimal_values)\n",
    "display(R, optimal_values)"
   ]
  },
  {
   "cell_type": "markdown",
   "metadata": {},
   "source": [
    "Interestingly, this reward is well below the \"exit\" reward, but then you can _stay there and get even more_. The optimal policy is to do that, avoiding the exit. You might wonder what value R would have to be for the policy to \"flip\" to exiting the building, which it must do at some critical value. That turns out to be 1.0 - try it out!"
   ]
  },
  {
   "cell_type": "code",
   "execution_count": null,
   "metadata": {
    "collapsed": true
   },
   "outputs": [],
   "source": []
  }
 ],
 "metadata": {
  "kernelspec": {
   "display_name": "Python 3",
   "language": "python",
   "name": "python3"
  },
  "language_info": {
   "codemirror_mode": {
    "name": "ipython",
    "version": 3
   },
   "file_extension": ".py",
   "mimetype": "text/x-python",
   "name": "python",
   "nbconvert_exporter": "python",
   "pygments_lexer": "ipython3",
   "version": "3.5.2"
  }
 },
 "nbformat": 4,
 "nbformat_minor": 0
}
