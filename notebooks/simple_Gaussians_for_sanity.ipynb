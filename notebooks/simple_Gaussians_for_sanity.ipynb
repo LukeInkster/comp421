{
 "cells": [
  {
   "cell_type": "markdown",
   "metadata": {},
   "source": [
    "# Generate Gaussians and look at 'em\n"
   ]
  },
  {
   "cell_type": "code",
   "execution_count": 5,
   "metadata": {
    "collapsed": false
   },
   "outputs": [],
   "source": [
    "%matplotlib inline\n",
    "import sys, math\n",
    "import matplotlib.pyplot as plt\n",
    "import numpy as np\n",
    "import numpy.random as rng"
   ]
  },
  {
   "cell_type": "code",
   "execution_count": 6,
   "metadata": {
    "collapsed": false
   },
   "outputs": [],
   "source": [
    "def plot_2D_Gaussian_surface(Mu, invC):\n",
    "    numsteps = 300\n",
    "    x, y =np.linspace(-10,10,numsteps), np.linspace(-10,10,numsteps)\n",
    "    X = np.zeros(shape=[2,numsteps,numsteps])\n",
    "    X[0], X[1] = np.meshgrid(x, y, sparse=False, indexing='ij')\n",
    "    invCX = np.tensordot(invC, X, axes=1)\n",
    "    z = np.sum(X * invCX,0)\n",
    "    z = np.exp(-0.5 * z)\n",
    "    plt.contourf(x,y,z, cmap='jet')\n",
    "    plt.axis('equal')"
   ]
  },
  {
   "cell_type": "code",
   "execution_count": 7,
   "metadata": {
    "collapsed": true
   },
   "outputs": [],
   "source": [
    "def random_rotation(C, angle):\n",
    "    invC = np.linalg.inv(C)\n",
    "    R = np.array([[math.cos(angle),-math.sin(angle)],[math.sin(angle),math.cos(angle)]]) # rotation matrix\n",
    "    invC = np.dot(np.linalg.inv(R), np.dot(invC, R))\n",
    "    C = np.linalg.inv(invC)\n",
    "    return invC, C"
   ]
  },
  {
   "cell_type": "code",
   "execution_count": 8,
   "metadata": {
    "collapsed": false
   },
   "outputs": [
    {
     "name": "stdout",
     "output_type": "stream",
     "text": [
      "Covariance matrix: \n",
      " [[ 5.   4.5]\n",
      " [ 4.5  5. ]]\n",
      "Covariance matrix: \n",
      " [[ 1.26970642  0.92216346]\n",
      " [ 0.92216346  0.83555674]]\n"
     ]
    },
    {
     "data": {
      "image/png": "[encoded data removed]",
      "text/plain": [
       "<matplotlib.figure.Figure at 0x367e9e8>"
      ]
     },
     "metadata": {},
     "output_type": "display_data"
    }
   ],
   "source": [
    "C = np.array([[5,4.5], [4.5,5]])\n",
    "Mu = np.array([0.0,0.0])\n",
    "print ('Covariance matrix: \\n %s' % str(C))\n",
    "angle = rng.random() * math.pi\n",
    "C, invC = random_rotation(C, angle)\n",
    "print ('Covariance matrix: \\n %s' % str(C))\n",
    "\n",
    "x = rng.multivariate_normal(Mu, C, 1000)\n",
    "plt.subplot(121)  # Just draw shitloads of samples\n",
    "plt.plot(x[:,0], x[:,1],'.k',alpha=.2)\n",
    "plt.axis('equal')\n",
    "\n",
    "plt.subplot(122)  # plot the analytic surface\n",
    "plot_2D_Gaussian_surface(Mu, invC)"
   ]
  }
 ],
 "metadata": {
  "kernelspec": {
   "display_name": "Python 3",
   "language": "python",
   "name": "python3"
  },
  "language_info": {
   "codemirror_mode": {
    "name": "ipython",
    "version": 3
   },
   "file_extension": ".py",
   "mimetype": "text/x-python",
   "name": "python",
   "nbconvert_exporter": "python",
   "pygments_lexer": "ipython3",
   "version": "3.4.3"
  }
 },
 "nbformat": 4,
 "nbformat_minor": 0
}
