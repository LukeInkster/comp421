{
 "cells": [
  {
   "cell_type": "markdown",
   "metadata": {},
   "source": [
    "Just some basic playing with matrices and plots in numpy and matplotlib.\n",
    "\n",
    "First, some boilerplate to import basics and shorten names. I start pretty much everything with this."
   ]
  },
  {
   "cell_type": "code",
   "execution_count": 1,
   "metadata": {
    "collapsed": false
   },
   "outputs": [],
   "source": [
    "%matplotlib inline\n",
    "import matplotlib\n",
    "import numpy as np\n",
    "import matplotlib.pyplot as plt\n",
    "import numpy.random as rng\n",
    "np.set_printoptions(precision = 2)"
   ]
  },
  {
   "cell_type": "markdown",
   "metadata": {},
   "source": [
    "Random matrices are easy, and you can ask any numpy array such as this its shape:"
   ]
  },
  {
   "cell_type": "code",
   "execution_count": 2,
   "metadata": {
    "collapsed": false
   },
   "outputs": [
    {
     "name": "stdout",
     "output_type": "stream",
     "text": [
      "[[ 0.52  0.18  0.57  0.38  0.57  0.23]\n",
      " [ 0.96  0.06  0.33  0.23  0.87  0.71]\n",
      " [ 0.98  0.54  0.95  0.99  0.36  0.12]\n",
      " [ 0.9   0.84  0.07  0.93  0.18  0.97]]\n",
      "(4, 6)\n"
     ]
    }
   ],
   "source": [
    "A = rng.random((4,6))\n",
    "print(A)\n",
    "print(A.shape)"
   ]
  },
  {
   "cell_type": "markdown",
   "metadata": {},
   "source": [
    "Think vectors and matrices instead of loops:"
   ]
  },
  {
   "cell_type": "code",
   "execution_count": 3,
   "metadata": {
    "collapsed": false
   },
   "outputs": [
    {
     "name": "stdout",
     "output_type": "stream",
     "text": [
      "[[1 0 1 1 1 0]\n",
      " [1 0 1 0 1 1]\n",
      " [1 1 1 1 1 0]\n",
      " [1 1 0 1 0 1]]\n"
     ]
    }
   ],
   "source": [
    "B = 1*(A > 0.25)\n",
    "print(B)"
   ]
  },
  {
   "cell_type": "code",
   "execution_count": 4,
   "metadata": {
    "collapsed": false
   },
   "outputs": [
    {
     "name": "stdout",
     "output_type": "stream",
     "text": [
      "[[ 1.99  0.83  1.44  1.18  1.44  1.36]\n",
      " [ 1.71  0.84  1.19  1.34  1.19  0.9 ]\n",
      " [ 2.37  1.11  2.18  1.52  2.18  1.05]\n",
      " [ 1.82  1.18  1.32  1.71  1.32  0.6 ]\n",
      " [ 1.25  0.93  0.89  1.23  0.89  0.38]]\n"
     ]
    }
   ],
   "source": [
    "# matrix multiplication is a \"dot product\"\n",
    "C = rng.random((5,4))\n",
    "D = np.dot(C,B)\n",
    "print(D)"
   ]
  },
  {
   "cell_type": "markdown",
   "metadata": {},
   "source": [
    "Make pictures of it instead of numbers:"
   ]
  },
  {
   "cell_type": "code",
   "execution_count": 5,
   "metadata": {
    "collapsed": false
   },
   "outputs": [
    {
     "data": {
      "text/plain": [
       "<matplotlib.colorbar.Colorbar at 0x7f66f65ba208>"
      ]
     },
     "execution_count": 5,
     "metadata": {},
     "output_type": "execute_result"
    },
    {
     "data": {
      "image/png": "[encoded data removed]",
      "text/plain": [
       "<matplotlib.figure.Figure at 0x7f67191785c0>"
      ]
     },
     "metadata": {},
     "output_type": "display_data"
    }
   ],
   "source": [
    "plt.imshow(D, interpolation='nearest', cmap='hot')\n",
    "plt.colorbar()"
   ]
  },
  {
   "cell_type": "code",
   "execution_count": 6,
   "metadata": {
    "collapsed": false
   },
   "outputs": [
    {
     "data": {
      "text/plain": [
       "[<matplotlib.lines.Line2D at 0x7f66f64af668>,\n",
       " <matplotlib.lines.Line2D at 0x7f66f64af828>,\n",
       " <matplotlib.lines.Line2D at 0x7f66f64afac8>,\n",
       " <matplotlib.lines.Line2D at 0x7f66f64afcc0>,\n",
       " <matplotlib.lines.Line2D at 0x7f66f64afeb8>,\n",
       " <matplotlib.lines.Line2D at 0x7f66f64b40f0>]"
      ]
     },
     "execution_count": 6,
     "metadata": {},
     "output_type": "execute_result"
    },
    {
     "data": {
      "image/png": "[encoded data removed]",
      "text/plain": [
       "<matplotlib.figure.Figure at 0x7f66f86542b0>"
      ]
     },
     "metadata": {},
     "output_type": "display_data"
    }
   ],
   "source": [
    "plt.plot(D)"
   ]
  },
  {
   "cell_type": "markdown",
   "metadata": {},
   "source": [
    "You can \"slice\" arrays, like this:"
   ]
  },
  {
   "cell_type": "code",
   "execution_count": 7,
   "metadata": {
    "collapsed": false
   },
   "outputs": [
    {
     "name": "stdout",
     "output_type": "stream",
     "text": [
      "[[ 0.35  0.81  0.28  0.55]\n",
      " [ 0.5   0.37  0.31  0.52]\n",
      " [ 0.41  0.85  0.91  0.19]\n",
      " [ 0.53  0.1   0.69  0.49]\n",
      " [ 0.3   0.02  0.57  0.36]]\n"
     ]
    }
   ],
   "source": [
    "print(C)"
   ]
  },
  {
   "cell_type": "code",
   "execution_count": 78,
   "metadata": {
    "collapsed": false
   },
   "outputs": [
    {
     "name": "stdout",
     "output_type": "stream",
     "text": [
      "[[ 0.76  0.15  0.92  0.11]\n",
      " [ 0.18  0.77  0.95  0.81]]\n"
     ]
    }
   ],
   "source": [
    "print (C[1:3])"
   ]
  },
  {
   "cell_type": "markdown",
   "metadata": {},
   "source": [
    "And of course there's stuff like..."
   ]
  },
  {
   "cell_type": "code",
   "execution_count": 83,
   "metadata": {
    "collapsed": false
   },
   "outputs": [
    {
     "name": "stdout",
     "output_type": "stream",
     "text": [
      "[ 0.58  0.48  0.68  0.56  0.53]\n"
     ]
    }
   ],
   "source": [
    "print (np.mean(C,axis=1))"
   ]
  },
  {
   "cell_type": "code",
   "execution_count": 112,
   "metadata": {
    "collapsed": false
   },
   "outputs": [
    {
     "name": "stdout",
     "output_type": "stream",
     "text": [
      "[[3 2 1 2]\n",
      " [4 4 4 4]\n",
      " [2 1 3 4]\n",
      " [1 2 1 1]]\n",
      "[[  3.33e-01   4.17e-01  -3.33e-01  -1.00e+00]\n",
      " [  2.22e-16  -2.50e-01   1.11e-16   1.00e+00]\n",
      " [ -6.67e-01   9.17e-01  -3.33e-01  -1.00e+00]\n",
      " [  3.33e-01  -8.33e-01   6.67e-01   1.00e+00]]\n",
      "[[ 3.  2.  1.  2.]\n",
      " [ 4.  4.  4.  4.]\n",
      " [ 2.  1.  3.  4.]\n",
      " [ 1.  2.  1.  1.]]\n"
     ]
    }
   ],
   "source": [
    "from numpy.linalg import inv\n",
    "D = rng.randint(1,5, size=(4,4))\n",
    "print (D)\n",
    "print (inv(D))\n",
    "print (inv(inv(D)))"
   ]
  },
  {
   "cell_type": "markdown",
   "metadata": {},
   "source": [
    "### What about some neurons"
   ]
  },
  {
   "cell_type": "code",
   "execution_count": 113,
   "metadata": {
    "collapsed": false
   },
   "outputs": [],
   "source": [
    "def sigmoid( phi ):\n",
    "    y = 1.0/ (1.0 + np.exp(phi))\n",
    "    return y"
   ]
  },
  {
   "cell_type": "code",
   "execution_count": 124,
   "metadata": {
    "collapsed": false
   },
   "outputs": [
    {
     "name": "stdout",
     "output_type": "stream",
     "text": [
      "0.00578667804493\n"
     ]
    }
   ],
   "source": [
    "x = np.array([1,2,5,3,4])\n",
    "w = rng.random(x.shape) # just making it the same shape as the input here\n",
    "phi = np.dot(x, w)\n",
    "print sigmoid(phi)"
   ]
  },
  {
   "cell_type": "code",
   "execution_count": 129,
   "metadata": {
    "collapsed": false
   },
   "outputs": [
    {
     "name": "stdout",
     "output_type": "stream",
     "text": [
      "[ 0.39  0.39  0.29  0.11  0.43  0.23  0.25  0.34  0.39  0.33]\n"
     ]
    }
   ],
   "source": [
    "# Or we can do a bunch at once, like a training set...\n",
    "npats, nins = 10, 5\n",
    "x = rng.randint(0,2,(npats, nins))  # ie. each row in an input vector\n",
    "phi = np.dot(x, w)\n",
    "print sigmoid(phi)"
   ]
  },
  {
   "cell_type": "markdown",
   "metadata": {},
   "source": [
    "You'll often have to just look at shapes of matrices to get things aligned for dot products:"
   ]
  },
  {
   "cell_type": "code",
   "execution_count": 130,
   "metadata": {
    "collapsed": false
   },
   "outputs": [
    {
     "name": "stdout",
     "output_type": "stream",
     "text": [
      "((10, 5), (5,))\n"
     ]
    }
   ],
   "source": [
    "print(x.shape, w.shape)"
   ]
  },
  {
   "cell_type": "code",
   "execution_count": null,
   "metadata": {
    "collapsed": false
   },
   "outputs": [],
   "source": []
  }
 ],
 "metadata": {
  "kernelspec": {
   "display_name": "Python 3",
   "language": "python",
   "name": "python3"
  },
  "language_info": {
   "codemirror_mode": {
    "name": "ipython",
    "version": 3
   },
   "file_extension": ".py",
   "mimetype": "text/x-python",
   "name": "python",
   "nbconvert_exporter": "python",
   "pygments_lexer": "ipython3",
   "version": "3.5.1"
  }
 },
 "nbformat": 4,
 "nbformat_minor": 0
}
